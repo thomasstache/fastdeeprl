{
 "cells": [
  {
   "cell_type": "markdown",
   "id": "1a7cc743-a2d1-4df0-ae86-ea03dc5afd0a",
   "metadata": {},
   "source": [
    "# Our first RL task: [Cartpole](https://www.gymlibrary.ml/environments/classic_control/cart_pole/)\n",
    "\n",
    "- Famous toy problem\n",
    "- Helps you understand the `gym` API\n",
    "- In this lesson: how to start the simulation\n",
    "\n",
    "![cartpole](images/cartpole.jpg)"
   ]
  },
  {
   "cell_type": "markdown",
   "id": "480014d2-b86b-44d0-9772-6063828cdd5f",
   "metadata": {},
   "source": [
    "# Task: learn how to move the cart in the CarPole environment to maximize the duration (max 10s) the pole stays upright\n",
    "<img src=\"images/cartpole/cartpole.png\" width=\"750\"/>"
   ]
  },
  {
   "cell_type": "markdown",
   "id": "eaee30a2-7522-4d55-8bc3-98c66f7c26b3",
   "metadata": {
    "tags": []
   },
   "source": [
    "# Tasks are expressed in terms of real world outcomes that are desired.\n",
    "\n",
    "## Rewards are engineered/constructed such that the following holds.\n",
    "\n",
    "- Maximizing cumulative rewards $\\equiv$ Desired real world outcome"
   ]
  },
  {
   "cell_type": "markdown",
   "id": "81213e60-b1d2-4c9d-b6aa-26affc5e28e8",
   "metadata": {},
   "source": [
    "# How to tell `gym` to start the simulation for the RL task\n",
    "\n",
    "<img src=\"images/start.png\" width=\"500\"/>\n",
    "\n",
    "1. Find the RL task in [`gym`'s environment section](https://www.gymlibrary.ml/environments/classic_control/).\n",
    "2. Copy the name of the task (in this case: `CartPole-v1`)\n",
    "3. Use the following code to start the simulation for the task"
   ]
  },
  {
   "cell_type": "markdown",
   "id": "a1a90a46-9612-4441-b6fc-8049f19afbdc",
   "metadata": {},
   "source": [
    "## Import `gym`"
   ]
  },
  {
   "cell_type": "code",
   "execution_count": 1,
   "id": "84b64e3d-554a-4067-975d-761c34ded68f",
   "metadata": {},
   "outputs": [],
   "source": [
    "import gym"
   ]
  },
  {
   "cell_type": "markdown",
   "id": "d24c5a54-9625-41bc-b909-7101f0b2d548",
   "metadata": {},
   "source": [
    "## Use the `make()` function to set up the simulation\n",
    "- The `make()` function takes one argument of type `str`, which is the name of the RL task\n",
    "- The RL task and its simulation is usually called **environment** in RL"
   ]
  },
  {
   "cell_type": "code",
   "execution_count": 2,
   "id": "d0f69735-d7a7-45ca-857a-fca028c776f0",
   "metadata": {},
   "outputs": [],
   "source": [
    "env = gym.make(\"CartPole-v1\")"
   ]
  },
  {
   "cell_type": "markdown",
   "id": "43174031-89ac-40d7-865b-b11b3005da56",
   "metadata": {},
   "source": [
    "## Use the `reset()` function to reset the environment to its **initial state**"
   ]
  },
  {
   "cell_type": "code",
   "execution_count": 3,
   "id": "f40e0224-f27a-45bc-96d0-99a8b64e119c",
   "metadata": {},
   "outputs": [
    {
     "data": {
      "text/plain": [
       "array([ 0.04492043, -0.01259805, -0.02945733,  0.02521956], dtype=float32)"
      ]
     },
     "execution_count": 3,
     "metadata": {},
     "output_type": "execute_result"
    }
   ],
   "source": [
    "env.reset()"
   ]
  },
  {
   "cell_type": "markdown",
   "id": "fc8b222c-1ac4-4f16-8b2e-4335c672936c",
   "metadata": {},
   "source": [
    "- This starts the simulation"
   ]
  },
  {
   "cell_type": "markdown",
   "id": "b23af345-c7ff-44d9-9527-daf5fc835e42",
   "metadata": {},
   "source": [
    "# After set up, you can visually inspect the environment anytime by calling the `render()` function."
   ]
  },
  {
   "cell_type": "code",
   "execution_count": 4,
   "id": "e98a8022-05e8-41c2-a765-106199aa0eb3",
   "metadata": {},
   "outputs": [
    {
     "data": {
      "text/plain": [
       "True"
      ]
     },
     "execution_count": 4,
     "metadata": {},
     "output_type": "execute_result"
    }
   ],
   "source": [
    "env.render()"
   ]
  },
  {
   "cell_type": "markdown",
   "id": "f7709c9b-9477-46f7-b854-c87fd7b19825",
   "metadata": {},
   "source": [
    "- The `render()` function only works if `reset()` was called before. Otherwise you will get a black screen."
   ]
  },
  {
   "cell_type": "markdown",
   "id": "1453ea7a-86bd-4029-9486-b2feb4f35a6d",
   "metadata": {},
   "source": [
    "# To close the window, use the `close()` function"
   ]
  },
  {
   "cell_type": "code",
   "execution_count": 5,
   "id": "b13ba036-72f7-413a-9d1a-3624e4f77f3e",
   "metadata": {},
   "outputs": [],
   "source": [
    "env.close()"
   ]
  },
  {
   "cell_type": "code",
   "execution_count": null,
   "id": "d4b7f5d4-987e-4200-b2e6-555e8f62fdc9",
   "metadata": {},
   "outputs": [],
   "source": []
  }
 ],
 "metadata": {
  "kernelspec": {
   "display_name": "Python 3.10.5 ('rl_course')",
   "language": "python",
   "name": "python3"
  },
  "language_info": {
   "codemirror_mode": {
    "name": "ipython",
    "version": 3
   },
   "file_extension": ".py",
   "mimetype": "text/x-python",
   "name": "python",
   "nbconvert_exporter": "python",
   "pygments_lexer": "ipython3",
   "version": "3.9.13"
  },
  "vscode": {
   "interpreter": {
    "hash": "d77c9cd89f606c886a62b89f76307361f1ead05ae5d4c123d23e867df45a5489"
   }
  }
 },
 "nbformat": 4,
 "nbformat_minor": 5
}

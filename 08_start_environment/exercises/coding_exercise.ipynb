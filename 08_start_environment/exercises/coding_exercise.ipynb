{
 "cells": [
  {
   "cell_type": "markdown",
   "id": "1694edaf-0c13-4f1a-a6f7-f4c0ce1a3d7f",
   "metadata": {},
   "source": [
    "# Setting up the `BipedalWalker-v3` environment\n",
    "\n",
    "The `gym` environment `BipedalWalker-v3` simulates a bipedal robot standing on an uneven surface. The goal is to teach the robot how to walk.\n",
    "\n",
    "![BipedalWalker-v3](bw.png)\n",
    "\n",
    "In the previous lesson, I showed you how to set up the `CartPole-v1` environment. Now, you are going to follow the same steps to set up the `BipedalWalker-v3` environment.\n",
    "\n",
    "Ready? Let's go!"
   ]
  },
  {
   "cell_type": "code",
   "execution_count": 1,
   "id": "52b28f1c-8a2b-4b60-91bb-1f27b75922ca",
   "metadata": {},
   "outputs": [],
   "source": [
    "# Import gym in this cell\n",
    "import gym"
   ]
  },
  {
   "cell_type": "code",
   "execution_count": 2,
   "id": "456e44d5-9eeb-4352-9944-2b2942393662",
   "metadata": {
    "tags": []
   },
   "outputs": [],
   "source": [
    "# Create the BipedalWalker-v3 environment and store it in a variable called env\n",
    "env = gym.make(\"BipedalWalker-v3\")"
   ]
  },
  {
   "cell_type": "code",
   "execution_count": 4,
   "id": "62796e77-aa14-4a1f-b065-e053576e5f71",
   "metadata": {},
   "outputs": [
    {
     "data": {
      "text/plain": [
       "array([ 2.7473327e-03, -2.2252470e-05,  1.7310174e-03, -1.5999850e-02,\n",
       "        9.1844872e-02, -2.2843557e-03,  8.6033589e-01,  3.0906275e-03,\n",
       "        1.0000000e+00,  3.2250393e-02, -2.2841976e-03,  8.5388511e-01,\n",
       "        1.6155170e-03,  1.0000000e+00,  4.4081411e-01,  4.4582021e-01,\n",
       "        4.6142289e-01,  4.8955029e-01,  5.3410292e-01,  6.0246116e-01,\n",
       "        7.0914906e-01,  8.8593203e-01,  1.0000000e+00,  1.0000000e+00],\n",
       "      dtype=float32)"
      ]
     },
     "execution_count": 4,
     "metadata": {},
     "output_type": "execute_result"
    }
   ],
   "source": [
    "# Reset the simulation to its initial state (this will start the simulation)\n",
    "env.reset()"
   ]
  },
  {
   "cell_type": "code",
   "execution_count": 6,
   "id": "cf023a2a-04d2-47a1-964f-aa32ce42e0d2",
   "metadata": {
    "tags": []
   },
   "outputs": [
    {
     "data": {
      "text/plain": [
       "True"
      ]
     },
     "execution_count": 6,
     "metadata": {},
     "output_type": "execute_result"
    }
   ],
   "source": [
    "# Visualize the initial state\n",
    "env.render()"
   ]
  },
  {
   "cell_type": "code",
   "execution_count": 8,
   "id": "709bdd16",
   "metadata": {},
   "outputs": [],
   "source": [
    "env.close()"
   ]
  },
  {
   "cell_type": "markdown",
   "id": "c7d558d7-715a-4340-83b6-65b01d3ae6cb",
   "metadata": {},
   "source": [
    "Do you see a pop-up window showing a bipedal robot standing on an grassy surface? If yes, then congratulations! You have successfully set up and started the `BipedalWalker-v3` environment. \n",
    "\n",
    "You can close the window by calling `env.close()`.\n",
    "\n",
    "If you are feeling brave, you can try setting up and visualizing other environments in the [Box2D](https://www.gymlibrary.ml/environments/box2d/) and [Classic Control](https://www.gymlibrary.ml/environments/classic_control/) sections."
   ]
  }
 ],
 "metadata": {
  "kernelspec": {
   "display_name": "Python 3.10.5 ('rl_course')",
   "language": "python",
   "name": "python3"
  },
  "language_info": {
   "codemirror_mode": {
    "name": "ipython",
    "version": 3
   },
   "file_extension": ".py",
   "mimetype": "text/x-python",
   "name": "python",
   "nbconvert_exporter": "python",
   "pygments_lexer": "ipython3",
   "version": "3.9.13"
  },
  "vscode": {
   "interpreter": {
    "hash": "d77c9cd89f606c886a62b89f76307361f1ead05ae5d4c123d23e867df45a5489"
   }
  }
 },
 "nbformat": 4,
 "nbformat_minor": 5
}
